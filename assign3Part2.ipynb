{
 "cells": [
  {
   "cell_type": "markdown",
   "metadata": {},
   "source": [
    "# Part two"
   ]
  },
  {
   "cell_type": "markdown",
   "metadata": {},
   "source": [
    "## Preparation"
   ]
  },
  {
   "cell_type": "code",
   "execution_count": 1,
   "metadata": {
    "ExecuteTime": {
     "end_time": "2019-03-29T23:13:52.482760Z",
     "start_time": "2019-03-29T23:13:52.472153Z"
    }
   },
   "outputs": [
    {
     "name": "stdout",
     "output_type": "stream",
     "text": [
      "file_len = 448659\n"
     ]
    }
   ],
   "source": [
    "import unidecode\n",
    "import string\n",
    "import random\n",
    "import re\n",
    "\n",
    "all_characters = string.printable\n",
    "n_characters = len(all_characters)\n",
    "\n",
    "file = unidecode.unidecode(open('music/nottingham_abc.txt').read())\n",
    "file_len = len(file)\n",
    "print('file_len =', file_len)"
   ]
  },
  {
   "cell_type": "markdown",
   "metadata": {},
   "source": [
    "To make inputs out of this big string of data, we will be splitting it into chunks."
   ]
  },
  {
   "cell_type": "code",
   "execution_count": 2,
   "metadata": {
    "ExecuteTime": {
     "end_time": "2019-03-29T23:13:52.494233Z",
     "start_time": "2019-03-29T23:13:52.486126Z"
    }
   },
   "outputs": [
    {
     "name": "stdout",
     "output_type": "stream",
     "text": [
      "hn Jones, via EF\n",
      "M:6/8\n",
      "K:D\n",
      "P:A\n",
      "A|\"D\"d3 fed|\"A7\"cea age|\"D\"d3 fed|\"Em\"cdB \"A7\"ABc|\n",
      "\"D\"\"Bm\"d3 fed|\"A\"cea abg|\"Em\"fed \"A7\"cBc|\"D\"dAF D2:|\n",
      "P:B\n",
      "A/2G/2|\"D\"FFF FAF|\"G\"GGG GBG|\"D\"AAA fed|\"A7\"cea ade|\n",
      "\"D\"fed \"A\n"
     ]
    }
   ],
   "source": [
    "chunk_len = 200\n",
    "\n",
    "def random_chunk():\n",
    "    start_index = random.randint(0, file_len - chunk_len)\n",
    "    end_index = start_index + chunk_len + 1\n",
    "    return file[start_index:end_index]\n",
    "\n",
    "print(random_chunk())"
   ]
  },
  {
   "cell_type": "markdown",
   "metadata": {},
   "source": [
    "## Build the Model\n",
    "\n",
    "This model will take as input the character for step $t_{-1}$ and is expected to output the next character $t$. There are three layers - one linear layer that encodes the input character into an internal state, one GRU layer (which may itself have multiple layers) that operates on that internal state and a hidden state, and a decoder layer that outputs the probability distribution."
   ]
  },
  {
   "cell_type": "code",
   "execution_count": 3,
   "metadata": {
    "ExecuteTime": {
     "end_time": "2019-03-29T23:13:53.189146Z",
     "start_time": "2019-03-29T23:13:52.498618Z"
    }
   },
   "outputs": [],
   "source": [
    "import torch\n",
    "import torch.nn as nn\n",
    "from torch.autograd import Variable\n",
    "\n",
    "class RNN(nn.Module):\n",
    "    def __init__(self, input_size, hidden_size, output_size, n_layers=1):\n",
    "        super(RNN, self).__init__()\n",
    "        self.input_size = input_size\n",
    "        self.hidden_size = hidden_size\n",
    "        self.output_size = output_size\n",
    "        self.n_layers = n_layers\n",
    "        \n",
    "        self.encoder = nn.Embedding(input_size, hidden_size)\n",
    "        self.gru = nn.GRU(hidden_size, hidden_size, n_layers)\n",
    "        self.decoder = nn.Linear(hidden_size, output_size)\n",
    "    \n",
    "    def forward(self, input, hidden):\n",
    "        input = self.encoder(input.view(1, -1))\n",
    "        output, hidden = self.gru(input.view(1, 1, -1), hidden)\n",
    "        output = self.decoder(output.view(1, -1))\n",
    "        return output, hidden\n",
    "\n",
    "    def init_hidden(self):\n",
    "        return Variable(torch.zeros(self.n_layers, 1, self.hidden_size))"
   ]
  },
  {
   "cell_type": "markdown",
   "metadata": {},
   "source": [
    "## Inputs and Targets"
   ]
  },
  {
   "cell_type": "markdown",
   "metadata": {},
   "source": [
    "Each chunk will be turned into a tensor, specifically a `LongTensor` (used for integer values), by looping through the characters of the string and looking up the index of each character in `all_characters`."
   ]
  },
  {
   "cell_type": "code",
   "execution_count": 4,
   "metadata": {
    "ExecuteTime": {
     "end_time": "2019-03-29T23:13:53.223192Z",
     "start_time": "2019-03-29T23:13:53.194982Z"
    }
   },
   "outputs": [
    {
     "name": "stdout",
     "output_type": "stream",
     "text": [
      "tensor([10, 11, 12, 39, 40, 41])\n"
     ]
    }
   ],
   "source": [
    "# Turn string into list of longs\n",
    "def char_tensor(string):\n",
    "    tensor = torch.zeros(len(string)).long()\n",
    "    for c in range(len(string)):\n",
    "        tensor[c] = all_characters.index(string[c])\n",
    "    return Variable(tensor)\n",
    "\n",
    "print(char_tensor('abcDEF'))"
   ]
  },
  {
   "cell_type": "markdown",
   "metadata": {},
   "source": [
    "Finally we can assemble a pair of input and target tensors for training, from a random chunk. The input will be all characters *up to the last*, and the target will be all characters *from the first*. So if our chunk is \"abc\" the input will correspond to \"ab\" while the target is \"bc\"."
   ]
  },
  {
   "cell_type": "code",
   "execution_count": 5,
   "metadata": {
    "ExecuteTime": {
     "end_time": "2019-03-29T23:13:53.238979Z",
     "start_time": "2019-03-29T23:13:53.225404Z"
    }
   },
   "outputs": [],
   "source": [
    "def random_training_set():    \n",
    "    chunk = random_chunk()\n",
    "    inp = char_tensor(chunk[:-1])\n",
    "    target = char_tensor(chunk[1:])\n",
    "    return inp, target"
   ]
  },
  {
   "cell_type": "markdown",
   "metadata": {},
   "source": [
    "## Evaluating\n",
    "\n",
    "To evaluate the network we will feed one character at a time, use the outputs of the network as a probability distribution for the next character, and repeat. To start generation we pass a priming string to start building up the hidden state, from which we then generate one character at a time."
   ]
  },
  {
   "cell_type": "code",
   "execution_count": 6,
   "metadata": {
    "ExecuteTime": {
     "end_time": "2019-03-29T23:13:53.292773Z",
     "start_time": "2019-03-29T23:13:53.247894Z"
    }
   },
   "outputs": [],
   "source": [
    "def evaluate(prime_str='A', predict_len=100, temperature=0.8):\n",
    "    hidden = decoder.init_hidden()\n",
    "    prime_input = char_tensor(prime_str)\n",
    "    predicted = prime_str\n",
    "\n",
    "    # Use priming string to \"build up\" hidden state\n",
    "    for p in range(len(prime_str) - 1):\n",
    "        _, hidden = decoder(prime_input[p], hidden)\n",
    "    inp = prime_input[-1]\n",
    "    probs = []\n",
    "\n",
    "    for p in range(predict_len):\n",
    "        output, hidden = decoder(inp, hidden)\n",
    "        \n",
    "        # Sample from the network as a multinomial distribution\n",
    "        output_dist = output.data.view(-1).div(temperature).exp()\n",
    "        norm_dist = output_dist/torch.sum(output_dist)\n",
    "        prob, top_i = norm_dist.max(0)\n",
    "#         top_i = torch.multinomial(norm_dist, 1)[0]\n",
    "        # Add predicted character to string and use as next input\n",
    "        predicted_char = all_characters[top_i]\n",
    "#         probs.append(norm_dist[top_i].item())\n",
    "        probs.append(prob)\n",
    "        predicted += predicted_char\n",
    "        inp = char_tensor(predicted_char)\n",
    "    probs = torch.FloatTensor(probs)\n",
    "\n",
    "    perplexity = (-1 * torch.sum(torch.log(probs))/predict_len)\n",
    "    return predicted,perplexity.item()"
   ]
  },
  {
   "cell_type": "code",
   "execution_count": 7,
   "metadata": {
    "ExecuteTime": {
     "end_time": "2019-03-29T23:13:53.356887Z",
     "start_time": "2019-03-29T23:13:53.305464Z"
    }
   },
   "outputs": [],
   "source": [
    "def evaluate_all(inputStr,temperature=0.8):\n",
    "    eval_len = len(inputStr)\n",
    "    hidden = decoder.init_hidden()\n",
    "    prime_input = char_tensor(' ')\n",
    "    probs = []\n",
    "    # using ' 'space as the priming input for validation\n",
    "    _, hidden = decoder(prime_input[0], hidden)\n",
    "    inp = prime_input[-1]\n",
    "    \n",
    "    for p in range(0,eval_len):\n",
    "        temp = char_tensor(inputStr[p]) # index for expected char\n",
    "        output, hidden = decoder(inp, hidden)\n",
    "         # Sample from the network as a multinomial distribution\n",
    "        output_dist = output.data.view(-1).div(temperature).exp()\n",
    "        norm_dist = output_dist/torch.sum(output_dist)\n",
    "        # retrieve the probability from norm_dist according to input char\n",
    "        prob = norm_dist[temp]\n",
    "        probs.append(prob)\n",
    "        inp = temp\n",
    "    probs = torch.FloatTensor(probs)\n",
    "    \n",
    "    perplexity = (-1 * torch.sum(torch.log(probs))/eval_len)\n",
    "    return perplexity.item()"
   ]
  },
  {
   "cell_type": "markdown",
   "metadata": {},
   "source": [
    "## Training"
   ]
  },
  {
   "cell_type": "markdown",
   "metadata": {},
   "source": [
    "A helper to print the amount of time passed:"
   ]
  },
  {
   "cell_type": "code",
   "execution_count": 8,
   "metadata": {
    "ExecuteTime": {
     "end_time": "2019-03-29T23:13:53.372296Z",
     "start_time": "2019-03-29T23:13:53.364371Z"
    }
   },
   "outputs": [],
   "source": [
    "import time, math\n",
    "\n",
    "def time_since(since):\n",
    "    s = time.time() - since\n",
    "    m = math.floor(s / 60)\n",
    "    s -= m * 60\n",
    "    return '%dm %ds' % (m, s)"
   ]
  },
  {
   "cell_type": "markdown",
   "metadata": {},
   "source": [
    "The main training function"
   ]
  },
  {
   "cell_type": "code",
   "execution_count": 9,
   "metadata": {
    "ExecuteTime": {
     "end_time": "2019-03-29T23:13:53.392019Z",
     "start_time": "2019-03-29T23:13:53.374838Z"
    }
   },
   "outputs": [],
   "source": [
    "def train(inp, target):\n",
    "    hidden = decoder.init_hidden()\n",
    "    decoder.zero_grad()\n",
    "    loss = 0\n",
    "\n",
    "    for c in range(chunk_len):\n",
    "        output, hidden = decoder(inp[c], hidden)\n",
    "        loss += criterion(output, target[c].unsqueeze(0))\n",
    "\n",
    "    loss.backward()\n",
    "    decoder_optimizer.step()\n",
    "\n",
    "    return loss.data.item() / chunk_len"
   ]
  },
  {
   "cell_type": "markdown",
   "metadata": {},
   "source": [
    "Then we define the training parameters, instantiate the model, and start training:"
   ]
  },
  {
   "cell_type": "code",
   "execution_count": 10,
   "metadata": {
    "ExecuteTime": {
     "end_time": "2019-03-29T23:35:58.582268Z",
     "start_time": "2019-03-29T23:13:53.397516Z"
    },
    "scrolled": false
   },
   "outputs": [
    {
     "name": "stdout",
     "output_type": "stream",
     "text": [
      "[2m 17s (1000 10%) 1.8696]\n",
      "('T:Aly Missin\\n% Nottingham Music Database\\nS:Trad, arr Phil Rowe\\nM:6/8\\nK:G\\nP:A\\nB/2|\"G\"GG \"G\"GG/2G/2|\"G\"G', 0.3169077932834625) \n",
      "\n",
      "[4m 35s (2000 20%) 1.3052]\n",
      "('T:Lay Annine the of the of the of the Ball Bonpipe\\n% Nottingham Music Database\\nS:The Dar Phil Rowe\\nM:6', 0.5471680760383606) \n",
      "\n",
      "[6m 43s (3000 30%) 1.1130]\n",
      "('T:Arest 1985, via EF\\nM:4/4\\nL:1/4\\nK:D\\n\"D\"AF \"A7\"AB|\"A\"A2 A2|\"D\"d2 d2:|\\n\\n\\nX: 11\\nT:The Eerst Woane\\n% Nott', 0.44136670231819153) \n",
      "\n",
      "[8m 50s (4000 40%) 1.5028]\n",
      "('T:Bol Bord Warrs o the Roueary\\n% Nottingham Music Database\\nS:Trad, arr Phil Rowe\\nM:6/8\\nK:D\\nP:A\\nA|\"D\"d2', 0.3879016637802124) \n",
      "\n",
      "[10m 51s (5000 50%) 0.6011]\n",
      "('T:Birs Jig\\n% Nottingham Music Database\\nS:Kevin Briggs, via EF\\nM:4/4\\nL:1/4\\nK:G\\nP:A\\nd/2c/2|\"G\"BG/2A/2 B/', 0.20732757449150085) \n",
      "\n",
      "[13m 3s (6000 60%) 0.8688]\n",
      "('T:Botttting\\nM:4/4\\nL:1/4\\nK:G\\nP:A\\nA/2B/2|\"D\"d/2d/2d/2d/2 \"A7\"c/2d/2c/2B/2|\"D\"A/2B/2A/2G/2 \"A7\"A/2G/2A/2B', 0.3463558852672577) \n",
      "\n",
      "[15m 18s (7000 70%) 1.1900]\n",
      "('T:Bob Quille\\n% Nottingham Music Database\\nS:Trad, via EF\\nM:6/8\\nK:D\\nP:A\\n|:\"G\"dB \"D\"FAd|\"G\"gfe \"G\"dBG|\"D\"', 0.2783701717853546) \n",
      "\n",
      "[17m 31s (8000 80%) 1.1573]\n",
      "('T:Northe Chamild\\n% Nottingham Music Database\\nS:Norind Wham, via EF\\nM:6/8\\nK:D\\nP:A\\nA/2B/2|\"A\"A2A A2c|\"D\"', 0.3719402551651001) \n",
      "\n",
      "[19m 47s (9000 90%) 1.4427]\n",
      "('T:Brand O\\' Perrrish\\n% Nottingham Music Database\\nS:Kevin Briggs, via EF\\nM:4/4\\nL:1/4\\nK:G\\nP:A\\n|:G/2A/2|\"G', 0.27903252840042114) \n",
      "\n",
      "[22m 5s (10000 100%) 1.0914]\n",
      "('T:Brand Wolling Camillle\\n% Nottingham Music Database\\nS:Trad, via EF\\nM:4/4\\nL:1/4\\nK:D\\n\"D\"A2 f2|\"A\"e2 a2|', 0.3387775421142578) \n",
      "\n"
     ]
    }
   ],
   "source": [
    "n_epochs = 10000\n",
    "print_every = 1000\n",
    "plot_every = 10\n",
    "hidden_size = 100\n",
    "n_layers = 1\n",
    "lr = 0.005\n",
    "\n",
    "decoder = RNN(n_characters, hidden_size, n_characters, n_layers)\n",
    "decoder_optimizer = torch.optim.Adam(decoder.parameters(), lr=lr)\n",
    "criterion = nn.CrossEntropyLoss()\n",
    "\n",
    "start = time.time()\n",
    "all_losses = []\n",
    "loss_avg = 0\n",
    "\n",
    "for epoch in range(1, n_epochs + 1):\n",
    "    loss = train(*random_training_set())       \n",
    "    loss_avg += loss\n",
    "\n",
    "    if epoch % print_every == 0:\n",
    "        print('[%s (%d %d%%) %.4f]' % (time_since(start), epoch, epoch / n_epochs * 100, loss))\n",
    "        print(evaluate('T:', 100), '\\n')\n",
    "\n",
    "    if epoch % plot_every == 0:\n",
    "        all_losses.append(loss_avg / plot_every)\n",
    "        loss_avg = 0"
   ]
  },
  {
   "cell_type": "markdown",
   "metadata": {},
   "source": [
    "## Plotting the Training Losses\n",
    "\n",
    "Plotting the historical loss from all_losses shows the network learning:"
   ]
  },
  {
   "cell_type": "code",
   "execution_count": 11,
   "metadata": {
    "ExecuteTime": {
     "end_time": "2019-03-29T23:35:59.355188Z",
     "start_time": "2019-03-29T23:35:58.585475Z"
    }
   },
   "outputs": [
    {
     "data": {
      "text/plain": [
       "[<matplotlib.lines.Line2D at 0x119e16780>]"
      ]
     },
     "execution_count": 11,
     "metadata": {},
     "output_type": "execute_result"
    },
    {
     "data": {
      "image/png": "[encoded data removed]",
      "text/plain": [
       "<Figure size 432x288 with 1 Axes>"
      ]
     },
     "metadata": {
      "needs_background": "light"
     },
     "output_type": "display_data"
    }
   ],
   "source": [
    "import matplotlib.pyplot as plt\n",
    "import matplotlib.ticker as ticker\n",
    "%matplotlib inline\n",
    "\n",
    "plt.figure()\n",
    "plt.plot(all_losses)"
   ]
  },
  {
   "cell_type": "markdown",
   "metadata": {},
   "source": [
    "## Evaluating at different \"temperatures\"\n",
    "\n",
    "In the `evaluate` function above, every time a prediction is made the outputs are divided by the \"temperature\" argument passed. Using a higher number makes all actions more equally likely, and thus gives us \"more random\" outputs. Using a lower value (less than 1) makes high probabilities contribute more. As we turn the temperature towards zero we are choosing only the most likely outputs.\n",
    "\n",
    "We can see the effects of this by adjusting the `temperature` argument."
   ]
  },
  {
   "cell_type": "code",
   "execution_count": 12,
   "metadata": {
    "ExecuteTime": {
     "end_time": "2019-03-29T23:35:59.395911Z",
     "start_time": "2019-03-29T23:35:59.358653Z"
    }
   },
   "outputs": [
    {
     "name": "stdout",
     "output_type": "stream",
     "text": [
      "('T:Brand Wolling Camillle\\n% Nottingham Music Database', 0.19479234516620636)\n"
     ]
    }
   ],
   "source": [
    "print(evaluate('T:', 50, temperature=0.4))"
   ]
  },
  {
   "cell_type": "markdown",
   "metadata": {},
   "source": [
    "Lower temperatures are less varied, choosing only the more probable outputs:"
   ]
  },
  {
   "cell_type": "code",
   "execution_count": 13,
   "metadata": {
    "ExecuteTime": {
     "end_time": "2019-03-29T23:35:59.535743Z",
     "start_time": "2019-03-29T23:35:59.403720Z"
    }
   },
   "outputs": [
    {
     "name": "stdout",
     "output_type": "stream",
     "text": [
      "('T:Brand Wolling Camillle\\n% Nottingham Music Database\\nS:Trad, via EF\\nM:4/4\\nL:1/4\\nK:D\\n\"D\"A2 f2|\"A\"e2 a2|\"A\"e2 \"D\"d2|\"A\"e2 \"A7\"e2|\"D\"d2 \"A7\"ed|\"D\"d2 \"A7\"ed|\"D\"d2 \"A7\"ed|\"D\"d2 \"A7\"ed|\"D\"d2 \"A7\"ed|\"D\"d2 \"A7\"', 0.4391261041164398)\n"
     ]
    }
   ],
   "source": [
    "print(evaluate('T:', 200, temperature=0.9))"
   ]
  },
  {
   "cell_type": "markdown",
   "metadata": {},
   "source": [
    "Higher temperatures more varied, choosing less probable outputs:"
   ]
  },
  {
   "cell_type": "code",
   "execution_count": 14,
   "metadata": {
    "ExecuteTime": {
     "end_time": "2019-03-29T23:35:59.654948Z",
     "start_time": "2019-03-29T23:35:59.540011Z"
    }
   },
   "outputs": [
    {
     "name": "stdout",
     "output_type": "stream",
     "text": [
      "('T:Brand Wolling Camillle\\n% Nottingham Music Database\\nS:Trad, via EF\\nM:4/4\\nL:1/4\\nK:D\\n\"D\"A2 f2|\"A\"e2 a2|\"A\"e2 \"D\"d2|\"A\"e2 \"A7\"e2|\"D\"d2 \"A7\"ed|\"D\"d2 \"A7\"ed|\"D\"d2 \"A7\"ed|\"D\"d2 \"A7\"ed|\"D\"d2 \"A7\"ed|\"D\"d2 \"A7\"ed|\"D\"d2 \"A7\"ed|\"D\"d2 \"A7\"ed|\"D\"d2 \"A7\"ed|\"D\"d2 \"A7\"ed|\"D\"d2 \"A7\"ed|\"D\"d2 \"A7\"ed|\"D\"d2 \"A7\"ed|\"D\"d2 ', 0.47386056184768677)\n"
     ]
    }
   ],
   "source": [
    "print(evaluate('T:', 300, temperature=0.95))"
   ]
  },
  {
   "cell_type": "markdown",
   "metadata": {},
   "source": [
    "## Comparision"
   ]
  },
  {
   "cell_type": "code",
   "execution_count": 16,
   "metadata": {
    "ExecuteTime": {
     "end_time": "2019-03-29T23:36:15.965219Z",
     "start_time": "2019-03-29T23:36:15.961110Z"
    }
   },
   "outputs": [],
   "source": [
    "xmas = unidecode.unidecode(open('music/xmas.txt').read())\n",
    "sample_x = xmas[0:200]"
   ]
  },
  {
   "cell_type": "code",
   "execution_count": 17,
   "metadata": {
    "ExecuteTime": {
     "end_time": "2019-03-29T23:36:17.288475Z",
     "start_time": "2019-03-29T23:36:17.282942Z"
    }
   },
   "outputs": [
    {
     "data": {
      "text/plain": [
       "'\\nX: 1\\nT:The Boar\\'s Head\\n% Nottingham Music Database\\n%P:AAB\\nS:Vic\\nM:4/4\\nL:1/4\\nK:C\\n|:G|\"C\"c2 cc|\"G\"Bc \"C\"G3/2E/2|\"F\"FF \"Dm\"AF| [1\"G\"GA/2B/2 \"C\"c:| [2\"G\"GA/2B/2 \"C\"c2|\\n\"C\"ee \"G\"dd|\"Am\"AA \"Em\"G3/2E/2|\"F\"F'"
      ]
     },
     "execution_count": 17,
     "metadata": {},
     "output_type": "execute_result"
    }
   ],
   "source": [
    "sample_x"
   ]
  },
  {
   "cell_type": "code",
   "execution_count": 18,
   "metadata": {
    "ExecuteTime": {
     "end_time": "2019-03-29T23:36:18.618437Z",
     "start_time": "2019-03-29T23:36:18.537579Z"
    }
   },
   "outputs": [
    {
     "data": {
      "text/plain": [
       "1.2562830448150635"
      ]
     },
     "execution_count": 18,
     "metadata": {},
     "output_type": "execute_result"
    }
   ],
   "source": [
    "evaluate_all(sample_x)"
   ]
  },
  {
   "cell_type": "code",
   "execution_count": 19,
   "metadata": {
    "ExecuteTime": {
     "end_time": "2019-03-29T23:36:19.675280Z",
     "start_time": "2019-03-29T23:36:19.653988Z"
    }
   },
   "outputs": [
    {
     "name": "stdout",
     "output_type": "stream",
     "text": [
      "T:Mr Preston's Hornpipe, 2nd setting\n",
      "M:3/2\n",
      "L:1/8\n",
      "K:C\n",
      "P:1\n",
      "c4 B4 A4 | A2 e4 A2 BcdB |\\\n",
      "c4 B4 A4 | G2 c4 A2 BcdB ||\n",
      "P:2\n",
      "e2 g4    B2 A4 | A2 a4 A2 BcdB |\\\n",
      "d2 g2 B2 g2 A4 | G2 c4 A2 BcdB ||\n",
      "P:3\n",
      "cdec BcdB A\n"
     ]
    }
   ],
   "source": [
    "reels_ab = unidecode.unidecode(open('music/all-abcs.txt').read())\n",
    "sample_ab = reels_ab[0:200]\n",
    "print(sample_ab)"
   ]
  },
  {
   "cell_type": "code",
   "execution_count": 20,
   "metadata": {
    "ExecuteTime": {
     "end_time": "2019-03-29T23:36:21.789583Z",
     "start_time": "2019-03-29T23:36:21.702255Z"
    }
   },
   "outputs": [
    {
     "data": {
      "text/plain": [
       "4.130214214324951"
      ]
     },
     "execution_count": 20,
     "metadata": {},
     "output_type": "execute_result"
    }
   ],
   "source": [
    "evaluate_all(sample_ab)"
   ]
  },
  {
   "cell_type": "code",
   "execution_count": 22,
   "metadata": {
    "ExecuteTime": {
     "end_time": "2019-03-29T23:36:30.109764Z",
     "start_time": "2019-03-29T23:36:30.103056Z"
    }
   },
   "outputs": [
    {
     "name": "stdout",
     "output_type": "stream",
     "text": [
      "\n",
      "X: 1\n",
      "T:The Alderman's Hat\n",
      "% Nottingham Music Database\n",
      "S:Playford\n",
      "M:4/4\n",
      "L:1/4\n",
      "K:Gm\n",
      "P:A\n",
      "D|\"Gm\"GB2G|\"D7\"^Fd2D|\"Gm\"GB2G|\"D7\"^FA2D|\"Gm\"GB2G|\"D\"^Fg -\"Cm\"gc|\\\n",
      "\"Gm/d\"B2 \"D7\"A2|\"Gm\"G3:|\n",
      "P:B\n",
      "d|\"Gm\"dg2d|\"Gm\"gb2\n"
     ]
    }
   ],
   "source": [
    "playford = unidecode.unidecode(open('music/playford.txt').read())\n",
    "sample_pf = playford[0:200]\n",
    "print(sample_pf)"
   ]
  },
  {
   "cell_type": "code",
   "execution_count": 23,
   "metadata": {
    "ExecuteTime": {
     "end_time": "2019-03-29T23:36:31.811298Z",
     "start_time": "2019-03-29T23:36:31.725735Z"
    }
   },
   "outputs": [
    {
     "data": {
      "text/plain": [
       "1.3773971796035767"
      ]
     },
     "execution_count": 23,
     "metadata": {},
     "output_type": "execute_result"
    }
   ],
   "source": [
    "evaluate_all(sample_pf)"
   ]
  }
 ],
 "metadata": {
  "anaconda-cloud": {},
  "kernelspec": {
   "display_name": "Python 3",
   "language": "python",
   "name": "python3"
  },
  "language_info": {
   "codemirror_mode": {
    "name": "ipython",
    "version": 3
   },
   "file_extension": ".py",
   "mimetype": "text/x-python",
   "name": "python",
   "nbconvert_exporter": "python",
   "pygments_lexer": "ipython3",
   "version": "3.6.5"
  },
  "toc": {
   "base_numbering": 1,
   "nav_menu": {},
   "number_sections": true,
   "sideBar": true,
   "skip_h1_title": false,
   "title_cell": "Table of Contents",
   "title_sidebar": "Contents",
   "toc_cell": false,
   "toc_position": {},
   "toc_section_display": true,
   "toc_window_display": false
  },
  "varInspector": {
   "cols": {
    "lenName": 16,
    "lenType": 16,
    "lenVar": 40
   },
   "kernels_config": {
    "python": {
     "delete_cmd_postfix": "",
     "delete_cmd_prefix": "del ",
     "library": "var_list.py",
     "varRefreshCmd": "print(var_dic_list())"
    },
    "r": {
     "delete_cmd_postfix": ") ",
     "delete_cmd_prefix": "rm(",
     "library": "var_list.r",
     "varRefreshCmd": "cat(var_dic_list()) "
    }
   },
   "types_to_exclude": [
    "module",
    "function",
    "builtin_function_or_method",
    "instance",
    "_Feature"
   ],
   "window_display": false
  }
 },
 "nbformat": 4,
 "nbformat_minor": 1
}
