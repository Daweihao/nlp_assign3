{
 "cells": [
  {
   "cell_type": "markdown",
   "metadata": {},
   "source": [
    "# Part two"
   ]
  },
  {
   "cell_type": "markdown",
   "metadata": {},
   "source": [
    "## Preparation"
   ]
  },
  {
   "cell_type": "code",
   "execution_count": 2,
   "metadata": {
    "ExecuteTime": {
     "end_time": "2019-03-28T20:28:38.348917Z",
     "start_time": "2019-03-28T20:28:38.315872Z"
    }
   },
   "outputs": [
    {
     "name": "stdout",
     "output_type": "stream",
     "text": [
      "file_len = 5458199\n"
     ]
    }
   ],
   "source": [
    "import unidecode\n",
    "import string\n",
    "import random\n",
    "import re\n",
    "\n",
    "all_characters = string.printable\n",
    "n_characters = len(all_characters)\n",
    "\n",
    "file = unidecode.unidecode(open('t8.shakespeare.txt').read())\n",
    "file_len = len(file)\n",
    "print('file_len =', file_len)"
   ]
  },
  {
   "cell_type": "markdown",
   "metadata": {},
   "source": [
    "To make inputs out of this big string of data, we will be splitting it into chunks."
   ]
  },
  {
   "cell_type": "code",
   "execution_count": 3,
   "metadata": {
    "ExecuteTime": {
     "end_time": "2019-03-28T20:28:40.374856Z",
     "start_time": "2019-03-28T20:28:40.368319Z"
    }
   },
   "outputs": [
    {
     "name": "stdout",
     "output_type": "stream",
     "text": [
      " most filthy bargain.\n",
      "  OTHELLO. Ha!\n",
      "  EMILIA. Do thy worst;\n",
      "    This deed of thine is no more worthy heaven\n",
      "    Than thou wast worthy her.\n",
      "  OTHELLO.                     Peace, you were best.\n",
      "  EMILIA\n"
     ]
    }
   ],
   "source": [
    "chunk_len = 200\n",
    "\n",
    "def random_chunk():\n",
    "    start_index = random.randint(0, file_len - chunk_len)\n",
    "    end_index = start_index + chunk_len + 1\n",
    "    return file[start_index:end_index]\n",
    "\n",
    "print(random_chunk())"
   ]
  },
  {
   "cell_type": "markdown",
   "metadata": {},
   "source": [
    "## Build the Model\n",
    "\n",
    "This model will take as input the character for step $t_{-1}$ and is expected to output the next character $t$. There are three layers - one linear layer that encodes the input character into an internal state, one GRU layer (which may itself have multiple layers) that operates on that internal state and a hidden state, and a decoder layer that outputs the probability distribution."
   ]
  },
  {
   "cell_type": "code",
   "execution_count": 4,
   "metadata": {
    "ExecuteTime": {
     "end_time": "2019-03-28T20:28:50.746549Z",
     "start_time": "2019-03-28T20:28:50.351206Z"
    }
   },
   "outputs": [],
   "source": [
    "import torch\n",
    "import torch.nn as nn\n",
    "from torch.autograd import Variable\n",
    "\n",
    "class RNN(nn.Module):\n",
    "    def __init__(self, input_size, hidden_size, output_size, n_layers=1):\n",
    "        super(RNN, self).__init__()\n",
    "        self.input_size = input_size\n",
    "        self.hidden_size = hidden_size\n",
    "        self.output_size = output_size\n",
    "        self.n_layers = n_layers\n",
    "        \n",
    "        self.encoder = nn.Embedding(input_size, hidden_size)\n",
    "        self.gru = nn.GRU(hidden_size, hidden_size, n_layers)\n",
    "        self.decoder = nn.Linear(hidden_size, output_size)\n",
    "    \n",
    "    def forward(self, input, hidden):\n",
    "        input = self.encoder(input.view(1, -1))\n",
    "        output, hidden = self.gru(input.view(1, 1, -1), hidden)\n",
    "        output = self.decoder(output.view(1, -1))\n",
    "        return output, hidden\n",
    "\n",
    "    def init_hidden(self):\n",
    "        return Variable(torch.zeros(self.n_layers, 1, self.hidden_size))"
   ]
  },
  {
   "cell_type": "markdown",
   "metadata": {},
   "source": [
    "## Inputs and Targets"
   ]
  },
  {
   "cell_type": "markdown",
   "metadata": {},
   "source": [
    "Each chunk will be turned into a tensor, specifically a `LongTensor` (used for integer values), by looping through the characters of the string and looking up the index of each character in `all_characters`."
   ]
  },
  {
   "cell_type": "code",
   "execution_count": 5,
   "metadata": {
    "ExecuteTime": {
     "end_time": "2019-03-28T20:32:06.430529Z",
     "start_time": "2019-03-28T20:32:06.419938Z"
    }
   },
   "outputs": [
    {
     "name": "stdout",
     "output_type": "stream",
     "text": [
      "tensor([10, 11, 12, 39, 40, 41])\n"
     ]
    }
   ],
   "source": [
    "# Turn string into list of longs\n",
    "def char_tensor(string):\n",
    "    tensor = torch.zeros(len(string)).long()\n",
    "    for c in range(len(string)):\n",
    "        tensor[c] = all_characters.index(string[c])\n",
    "    return Variable(tensor)\n",
    "\n",
    "print(char_tensor('abcDEF'))"
   ]
  },
  {
   "cell_type": "markdown",
   "metadata": {},
   "source": [
    "Finally we can assemble a pair of input and target tensors for training, from a random chunk. The input will be all characters *up to the last*, and the target will be all characters *from the first*. So if our chunk is \"abc\" the input will correspond to \"ab\" while the target is \"bc\"."
   ]
  },
  {
   "cell_type": "code",
   "execution_count": 7,
   "metadata": {
    "ExecuteTime": {
     "end_time": "2019-03-28T20:36:00.358537Z",
     "start_time": "2019-03-28T20:36:00.353961Z"
    }
   },
   "outputs": [],
   "source": [
    "def random_training_set():    \n",
    "    chunk = random_chunk()\n",
    "    inp = char_tensor(chunk[:-1])\n",
    "    target = char_tensor(chunk[1:])\n",
    "    return inp, target"
   ]
  },
  {
   "cell_type": "markdown",
   "metadata": {},
   "source": [
    "## Evaluating\n",
    "\n",
    "To evaluate the network we will feed one character at a time, use the outputs of the network as a probability distribution for the next character, and repeat. To start generation we pass a priming string to start building up the hidden state, from which we then generate one character at a time."
   ]
  },
  {
   "cell_type": "code",
   "execution_count": 59,
   "metadata": {
    "ExecuteTime": {
     "end_time": "2019-03-29T05:20:45.075956Z",
     "start_time": "2019-03-29T05:20:45.055986Z"
    }
   },
   "outputs": [],
   "source": [
    "def evaluate(prime_str='A', predict_len=100, temperature=0.8):\n",
    "    hidden = decoder.init_hidden()\n",
    "    prime_input = char_tensor(prime_str)\n",
    "    predicted = prime_str\n",
    "\n",
    "    # Use priming string to \"build up\" hidden state\n",
    "    for p in range(len(prime_str) - 1):\n",
    "        _, hidden = decoder(prime_input[p], hidden)\n",
    "    inp = prime_input[-1]\n",
    "    probs = []\n",
    "\n",
    "    for p in range(predict_len):\n",
    "        output, hidden = decoder(inp, hidden)\n",
    "        \n",
    "        # Sample from the network as a multinomial distribution\n",
    "        output_dist = output.data.view(-1).div(temperature).exp()\n",
    "        norm_dist = output_dist/torch.sum(output_dist)\n",
    "        prob, top_i = norm_dist.max(0)\n",
    "#         top_i = torch.multinomial(norm_dist, 1)[0]\n",
    "        # Add predicted character to string and use as next input\n",
    "        predicted_char = all_characters[top_i]\n",
    "#         probs.append(norm_dist[top_i].item())\n",
    "        probs.append(prob)\n",
    "        predicted += predicted_char\n",
    "        inp = char_tensor(predicted_char)\n",
    "    probs = torch.FloatTensor(probs)\n",
    "\n",
    "    perplexity = (-1 * torch.sum(torch.log(probs))/predict_len)\n",
    "    return predicted,perplexity.item()"
   ]
  },
  {
   "cell_type": "markdown",
   "metadata": {},
   "source": [
    "## Training"
   ]
  },
  {
   "cell_type": "markdown",
   "metadata": {},
   "source": [
    "A helper to print the amount of time passed:"
   ]
  },
  {
   "cell_type": "code",
   "execution_count": 9,
   "metadata": {
    "ExecuteTime": {
     "end_time": "2019-03-28T20:38:52.373812Z",
     "start_time": "2019-03-28T20:38:52.368780Z"
    }
   },
   "outputs": [],
   "source": [
    "import time, math\n",
    "\n",
    "def time_since(since):\n",
    "    s = time.time() - since\n",
    "    m = math.floor(s / 60)\n",
    "    s -= m * 60\n",
    "    return '%dm %ds' % (m, s)"
   ]
  },
  {
   "cell_type": "markdown",
   "metadata": {},
   "source": [
    "The main training function"
   ]
  },
  {
   "cell_type": "code",
   "execution_count": 16,
   "metadata": {
    "ExecuteTime": {
     "end_time": "2019-03-28T20:42:31.994579Z",
     "start_time": "2019-03-28T20:42:31.986075Z"
    }
   },
   "outputs": [],
   "source": [
    "def train(inp, target):\n",
    "    hidden = decoder.init_hidden()\n",
    "    decoder.zero_grad()\n",
    "    loss = 0\n",
    "\n",
    "    for c in range(chunk_len):\n",
    "        output, hidden = decoder(inp[c], hidden)\n",
    "        loss += criterion(output, target[c].unsqueeze(0))\n",
    "\n",
    "    loss.backward()\n",
    "    decoder_optimizer.step()\n",
    "\n",
    "    return loss.data.item() / chunk_len"
   ]
  },
  {
   "cell_type": "markdown",
   "metadata": {},
   "source": [
    "Then we define the training parameters, instantiate the model, and start training:"
   ]
  },
  {
   "cell_type": "code",
   "execution_count": 44,
   "metadata": {
    "ExecuteTime": {
     "end_time": "2019-03-29T05:06:01.831470Z",
     "start_time": "2019-03-29T05:01:28.979662Z"
    },
    "scrolled": false
   },
   "outputs": [
    {
     "name": "stdout",
     "output_type": "stream",
     "text": [
      "[0m 13s (100 5%) 2.2658]\n",
      "('Wher yound ou thetereag; theimerat the avon the surartt the  the mat hat hou then.                   p', tensor(0.2369)) \n",
      "\n",
      "[0m 26s (200 10%) 1.9666]\n",
      "(\"Whtot hat gropre wat dotid and the sot-we'd,\\n                       O I heis!\\n       To, sin!\\n        \", tensor(0.2443)) \n",
      "\n",
      "[0m 40s (300 15%) 2.1108]\n",
      "('Whous;    loth youre meess moningeslls,\\n          Hack prid ir now sicest you wake sous. And an this. ', tensor(0.1813)) \n",
      "\n",
      "[0m 53s (400 20%) 2.1400]\n",
      "(\"Whing\\n  And I Gath, thees wheas thinge erp'd's his age and and hall bamarn!\\n              Whath him la\", tensor(0.2277)) \n",
      "\n",
      "[1m 6s (500 25%) 2.1555]\n",
      "('Whe reptret it.\\n  DEBMION. The she stall be for coum blant.\\n   AJIBONTIBUS DISAR MARSSIO UF ANDwE\\n   M', tensor(0.1575)) \n",
      "\n",
      "[1m 22s (600 30%) 1.5951]\n",
      "('Whe there well\\n   The of him west the me mut. \\n   Pulef ands to must up here mowe uthin the knill ours', tensor(0.2147)) \n",
      "\n",
      "[1m 37s (700 35%) 1.8401]\n",
      "('Whe srife?\\n              He charonester-\\n                  Ence that dist frenews,\\n      you fither sa', tensor(0.2769)) \n",
      "\n",
      "[1m 50s (800 40%) 1.6758]\n",
      "(\"Wht care it nere;\\n    Stiser.\\n  Sher the play enter's her to make of your mostermeart.\\n    And shallio\", tensor(0.2519)) \n",
      "\n",
      "[2m 4s (900 45%) 1.4460]\n",
      "(\"What'ch see whilthin.\\n    His a que, am.'\\n  Cut I douctwiol be exhance to by his for unow, a no lord\\n \", tensor(0.1542)) \n",
      "\n",
      "[2m 17s (1000 50%) 1.7262]\n",
      "('Wh if to     ellose.\\n  ITH DESSEIAN. Brut of Martus is lots the evings this wit be hath law\\n    Where ', tensor(0.1948)) \n",
      "\n",
      "[2m 29s (1100 55%) 2.0314]\n",
      "(\"Whir! But sowarebtend fao wand but,\\n                                 Os make strow'd to stray master t\", tensor(0.2794)) \n",
      "\n",
      "[2m 44s (1200 60%) 1.8015]\n",
      "('Whusinest for it eaty.\\n  TINE TRIOITEN IN. My of dow sit; fear, I his plages is fill pleatiun, and the', tensor(0.1775)) \n",
      "\n",
      "[2m 59s (1300 65%) 1.7997]\n",
      "('Whancords, leal\\n     sence to wair part, sill of herger the for hey commons cell of poones to lorcy,\\n ', tensor(0.1960)) \n",
      "\n",
      "[3m 12s (1400 70%) 1.7590]\n",
      "('When acous?\\n                                                                                          ', tensor(0.8148)) \n",
      "\n",
      "[3m 25s (1500 75%) 2.0279]\n",
      "(\"Whall mosse, and could the not to leep\\n\\n. 'Triser. Hall that that and hand (rome.\\n  THIR. As way, I si\", tensor(0.2243)) \n",
      "\n",
      "[3m 38s (1600 80%) 1.7821]\n",
      "('What, and this seave\\n     woul on the such a deautiel, awnow!\\n  FORSTAT LOUC. Whe? Sisle.\\n    Exeal no', tensor(0.2016)) \n",
      "\n",
      "[3m 51s (1700 85%) 1.8359]\n",
      "('Whe, revile etate men wuch a pust\\n   What in the wike of jurnt it with him to\\n    But Carly yours what', tensor(0.2074)) \n",
      "\n",
      "[4m 4s (1800 90%) 1.8780]\n",
      "('What bods,\\n    Whoughar, coung shooness ming he mare to read old your of eyes onot not mose of the as ', tensor(0.2211)) \n",
      "\n",
      "[4m 20s (1900 95%) 1.6838]\n",
      "('Why shade and as\\n    here made it if in cade mad\\n    I for enter to herid; and you parge there I am ad', tensor(0.2673)) \n",
      "\n",
      "[4m 32s (2000 100%) 1.6492]\n",
      "(\"Why may, spee id proy's propens for these the pair.\\n    I this of for thole appy's componswer. I croun\", tensor(0.2422)) \n",
      "\n"
     ]
    }
   ],
   "source": [
    "n_epochs = 2000\n",
    "print_every = 100\n",
    "plot_every = 10\n",
    "hidden_size = 100\n",
    "n_layers = 1\n",
    "lr = 0.005\n",
    "\n",
    "decoder = RNN(n_characters, hidden_size, n_characters, n_layers)\n",
    "decoder_optimizer = torch.optim.Adam(decoder.parameters(), lr=lr)\n",
    "criterion = nn.CrossEntropyLoss()\n",
    "\n",
    "start = time.time()\n",
    "all_losses = []\n",
    "loss_avg = 0\n",
    "\n",
    "for epoch in range(1, n_epochs + 1):\n",
    "    loss = train(*random_training_set())       \n",
    "    loss_avg += loss\n",
    "\n",
    "    if epoch % print_every == 0:\n",
    "        print('[%s (%d %d%%) %.4f]' % (time_since(start), epoch, epoch / n_epochs * 100, loss))\n",
    "        print(evaluate('Wh', 100), '\\n')\n",
    "\n",
    "    if epoch % plot_every == 0:\n",
    "        all_losses.append(loss_avg / plot_every)\n",
    "        loss_avg = 0"
   ]
  },
  {
   "cell_type": "markdown",
   "metadata": {},
   "source": [
    "## Plotting the Training Losses\n",
    "\n",
    "Plotting the historical loss from all_losses shows the network learning:"
   ]
  },
  {
   "cell_type": "code",
   "execution_count": 45,
   "metadata": {
    "ExecuteTime": {
     "end_time": "2019-03-29T05:06:09.453488Z",
     "start_time": "2019-03-29T05:06:09.152414Z"
    }
   },
   "outputs": [
    {
     "data": {
      "text/plain": [
       "[<matplotlib.lines.Line2D at 0x116f4af60>]"
      ]
     },
     "execution_count": 45,
     "metadata": {},
     "output_type": "execute_result"
    },
    {
     "data": {
      "image/png": "[encoded data removed]",
      "text/plain": [
       "<Figure size 432x288 with 1 Axes>"
      ]
     },
     "metadata": {
      "needs_background": "light"
     },
     "output_type": "display_data"
    }
   ],
   "source": [
    "import matplotlib.pyplot as plt\n",
    "import matplotlib.ticker as ticker\n",
    "%matplotlib inline\n",
    "\n",
    "plt.figure()\n",
    "plt.plot(all_losses)"
   ]
  },
  {
   "cell_type": "markdown",
   "metadata": {},
   "source": [
    "## Evaluating at different \"temperatures\"\n",
    "\n",
    "In the `evaluate` function above, every time a prediction is made the outputs are divided by the \"temperature\" argument passed. Using a higher number makes all actions more equally likely, and thus gives us \"more random\" outputs. Using a lower value (less than 1) makes high probabilities contribute more. As we turn the temperature towards zero we are choosing only the most likely outputs.\n",
    "\n",
    "We can see the effects of this by adjusting the `temperature` argument."
   ]
  },
  {
   "cell_type": "code",
   "execution_count": 58,
   "metadata": {
    "ExecuteTime": {
     "end_time": "2019-03-29T05:20:02.660672Z",
     "start_time": "2019-03-29T05:20:02.646022Z"
    }
   },
   "outputs": [
    {
     "name": "stdout",
     "output_type": "stream",
     "text": [
      "tensor(14)\n",
      "tensor(14)\n",
      "tensor(94)\n",
      "tensor(94)\n",
      "tensor(22)\n",
      "tensor(29)\n",
      "tensor(17)\n",
      "tensor(17)\n",
      "tensor(14)\n",
      "tensor(14)\n",
      "[tensor(0.7939), tensor(0.8489), tensor(0.1452), tensor(0.8286), tensor(0.8320)]\n",
      "('The the', tensor(0.5392))\n"
     ]
    }
   ],
   "source": [
    "print(evaluate('Th', 5, temperature=0.8))"
   ]
  },
  {
   "cell_type": "markdown",
   "metadata": {},
   "source": [
    "Lower temperatures are less varied, choosing only the more probable outputs:"
   ]
  },
  {
   "cell_type": "code",
   "execution_count": 60,
   "metadata": {
    "ExecuteTime": {
     "end_time": "2019-03-29T05:20:57.487977Z",
     "start_time": "2019-03-29T05:20:57.364401Z"
    }
   },
   "outputs": [
    {
     "name": "stdout",
     "output_type": "stream",
     "text": [
      "('The me the shall the shall the see the see the see the see the see the see the see the see the see the see the see the see the see the see the see the see the see the see the see the see the see the see', 0.2181037962436676)\n"
     ]
    }
   ],
   "source": [
    "print(evaluate('Th', 200, temperature=0.2))"
   ]
  },
  {
   "cell_type": "markdown",
   "metadata": {},
   "source": [
    "Higher temperatures more varied, choosing less probable outputs:"
   ]
  },
  {
   "cell_type": "code",
   "execution_count": 64,
   "metadata": {
    "ExecuteTime": {
     "end_time": "2019-03-29T05:21:17.533884Z",
     "start_time": "2019-03-29T05:21:17.410830Z"
    }
   },
   "outputs": [
    {
     "name": "stdout",
     "output_type": "stream",
     "text": [
      "('The me the shall the shall the see the see the see the see the see the see the see the see the see the see the see the see the see the see the see the see the see the see the see the see the see the see the see the see the see the see the see the see the see the see the see the see the see the see the', 0.4449905455112457)\n"
     ]
    }
   ],
   "source": [
    "print(evaluate('Th', 300, temperature=0.4))"
   ]
  }
 ],
 "metadata": {
  "anaconda-cloud": {},
  "kernelspec": {
   "display_name": "Python 3",
   "language": "python",
   "name": "python3"
  },
  "language_info": {
   "codemirror_mode": {
    "name": "ipython",
    "version": 3
   },
   "file_extension": ".py",
   "mimetype": "text/x-python",
   "name": "python",
   "nbconvert_exporter": "python",
   "pygments_lexer": "ipython3",
   "version": "3.6.5"
  },
  "toc": {
   "base_numbering": 1,
   "nav_menu": {},
   "number_sections": true,
   "sideBar": true,
   "skip_h1_title": false,
   "title_cell": "Table of Contents",
   "title_sidebar": "Contents",
   "toc_cell": false,
   "toc_position": {},
   "toc_section_display": true,
   "toc_window_display": false
  },
  "varInspector": {
   "cols": {
    "lenName": 16,
    "lenType": 16,
    "lenVar": 40
   },
   "kernels_config": {
    "python": {
     "delete_cmd_postfix": "",
     "delete_cmd_prefix": "del ",
     "library": "var_list.py",
     "varRefreshCmd": "print(var_dic_list())"
    },
    "r": {
     "delete_cmd_postfix": ") ",
     "delete_cmd_prefix": "rm(",
     "library": "var_list.r",
     "varRefreshCmd": "cat(var_dic_list()) "
    }
   },
   "types_to_exclude": [
    "module",
    "function",
    "builtin_function_or_method",
    "instance",
    "_Feature"
   ],
   "window_display": false
  }
 },
 "nbformat": 4,
 "nbformat_minor": 1
}
